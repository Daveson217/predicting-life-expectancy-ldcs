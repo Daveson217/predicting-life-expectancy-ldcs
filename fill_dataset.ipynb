{
 "cells": [
  {
   "cell_type": "code",
   "execution_count": 141,
   "metadata": {},
   "outputs": [],
   "source": [
    "# Algorithm\n",
    "import pandas as pd\n",
    "\n",
    "# Open WDI_EXCEL_TRIMMED_SELECTED_COUNTRIES.xlsx\n",
    "BASE_PATH = \"C:\\\\400L Project\\\\analysis\\\\\"\n",
    "final_wdi_filtered_frame = pd.read_excel(BASE_PATH + 'FINAL_FILTERED_WDI_DATASET.xlsx', \"Data\")\n",
    "\n",
    "# Open MAIN_DATASET.xlsx [Data]\n",
    "main_dataset_frame = pd.read_excel(BASE_PATH + 'MAIN DATASET.xlsx', 'Data')\n"
   ]
  },
  {
   "cell_type": "code",
   "execution_count": 142,
   "metadata": {},
   "outputs": [],
   "source": [
    "# initialize dictionary of indicator_code and [index value, short name, full name]\n",
    "variables_list_frame = pd.read_excel(BASE_PATH + 'MAIN DATASET.xlsx', 'Variables List')\n",
    "variables_list = variables_list_frame.set_index('Indicator Code').T.to_dict('list')\n",
    "indicators = variables_list.keys() # List of indicator codes"
   ]
  },
  {
   "cell_type": "code",
   "execution_count": 143,
   "metadata": {},
   "outputs": [
    {
     "name": "stdout",
     "output_type": "stream",
     "text": [
      "Done\n"
     ]
    }
   ],
   "source": [
    "# for each row in MAIN_DATASET (start from row 2)\n",
    "    #get country_name\n",
    "    # for indicator in indicator_codes\n",
    "        # Find the row in filtered WDI that has the current country_name and the current indicator \n",
    "        # then get the 2017, 2018, 2019 values of them\n",
    "        # get the corresponding short_name/index value\n",
    "        # loop through from that index to the next to and fill in the values of that indicator for 2017, 2018, 2019\n",
    "#\n",
    "# Start iteration of main_dataset at index 1, not 0\n",
    "from itertools import islice \n",
    "for index, row in islice(main_dataset_frame.iterrows(), 1, None):\n",
    "    current_country = row[1] # Get current country\n",
    "    \n",
    "    for indicator in indicators: # Iterate through all indicator codes                \n",
    "        # Find the row in filtered WDI that has the current country_name and the current indicator     \n",
    "        condition = (final_wdi_filtered_frame['Country Name'] == current_country) & (final_wdi_filtered_frame['Indicator Code'] == indicator)                \n",
    "        \n",
    "        # Get the 2017, 2018, 2019 values of that row\n",
    "        selected_row = final_wdi_filtered_frame[condition].values.tolist()[0] # List\n",
    "        \n",
    "        # Get the corresponding short_name of that indicator\n",
    "        indicator_short_name = variables_list[indicator][2]\n",
    "        \n",
    "        # Fill in the values of that indicator for 2017, 2018, 2019 in the appropriate column in 'Main Dataset.xlsx' [Data]                \n",
    "        \n",
    "        # On the current index (the row), go to the column and insert the value       \n",
    "        main_dataset_frame.loc[index, indicator_short_name] =  selected_row[-3] # 2017 value\n",
    "\n",
    "        \n",
    "        indicator_2018_col_index = main_dataset_frame.columns.get_loc(indicator_short_name) + 1 # Current indicator column index + 1\n",
    "        colname_2018 = main_dataset_frame.columns[indicator_2018_col_index]        \n",
    "        main_dataset_frame.loc[index, colname_2018] =  selected_row[-2] # 2018 value\n",
    "        \n",
    "        indicator_2019_col_index = main_dataset_frame.columns.get_loc(indicator_short_name) + 2 # Current indicator column index + 2\n",
    "        colname_2019 = main_dataset_frame.columns[indicator_2019_col_index]    \n",
    "        main_dataset_frame.loc[index, colname_2019] =  selected_row[-1] # 2019 value\n",
    "    \n",
    "main_dataset_frame.to_excel(BASE_PATH + 'FINAL_MAIN_TEST.xlsx', 'Data')\n",
    "print('Done')\n"
   ]
  },
  {
   "cell_type": "code",
   "execution_count": null,
   "metadata": {},
   "outputs": [],
   "source": []
  },
  {
   "cell_type": "code",
   "execution_count": null,
   "metadata": {},
   "outputs": [],
   "source": []
  }
 ],
 "metadata": {
  "kernelspec": {
   "display_name": "Python 3",
   "language": "python",
   "name": "python3"
  },
  "language_info": {
   "codemirror_mode": {
    "name": "ipython",
    "version": 3
   },
   "file_extension": ".py",
   "mimetype": "text/x-python",
   "name": "python",
   "nbconvert_exporter": "python",
   "pygments_lexer": "ipython3",
   "version": "3.8.5"
  }
 },
 "nbformat": 4,
 "nbformat_minor": 4
}
