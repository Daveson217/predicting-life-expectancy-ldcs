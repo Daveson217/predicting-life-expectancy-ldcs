{
 "cells": [
  {
   "cell_type": "code",
   "execution_count": 13,
   "metadata": {
    "scrolled": true
   },
   "outputs": [],
   "source": [
    "import pandas as pd\n",
    "# Continuing from WDI_EXCEL_TRIMMED_SELECTED_COUNTRIES.xlsx, \n",
    "# this script filters that dataset based on the chosen variables. 28 in total\n",
    "BASE_PATH = \"C:\\\\400L Project\\\\analysis\\\\\"\n",
    "\n",
    "# initialize dictionary of indicator_code and [index value, short name, full name]\n",
    "variables_list_frame = pd.read_excel(BASE_PATH + 'MAIN DATASET.xlsx', 'Variables List')\n",
    "variables_list = variables_list_frame.set_index('Indicator Code').T.to_dict('list')\n",
    "\n",
    "wdi_excel_trimmed_selected_countries = pd.read_excel(BASE_PATH + 'WDI_EXCEL_TRIMMED_SELECTED_COUNTRIES.xlsx', \"Data\")\n",
    "#print(wdi_excel_trimmed_selected_countries.head())\n",
    "\n",
    "final_filtered_wdi_dataset_condition = wdi_excel_trimmed_selected_countries[\"Indicator Code\"].isin(list(variables_list.keys()))\n",
    "final_filtered_wdi_dataset = wdi_excel_trimmed_selected_countries[final_filtered_wdi_dataset_condition]"
   ]
  },
  {
   "cell_type": "code",
   "execution_count": 16,
   "metadata": {},
   "outputs": [],
   "source": [
    "final_filtered_wdi_dataset = final_filtered_wdi_dataset.reset_index(drop=True, inplace=False)\n",
    "final_filtered_wdi_dataset.to_excel(BASE_PATH + 'FINAL_FILTERED_WDI_DATASET.xlsx', 'Data')"
   ]
  },
  {
   "cell_type": "code",
   "execution_count": null,
   "metadata": {},
   "outputs": [],
   "source": []
  }
 ],
 "metadata": {
  "kernelspec": {
   "display_name": "Python 3",
   "language": "python",
   "name": "python3"
  },
  "language_info": {
   "codemirror_mode": {
    "name": "ipython",
    "version": 3
   },
   "file_extension": ".py",
   "mimetype": "text/x-python",
   "name": "python",
   "nbconvert_exporter": "python",
   "pygments_lexer": "ipython3",
   "version": "3.8.5"
  }
 },
 "nbformat": 4,
 "nbformat_minor": 4
}
