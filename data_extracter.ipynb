{
 "cells": [
  {
   "cell_type": "code",
   "execution_count": null,
   "metadata": {},
   "outputs": [],
   "source": [
    "import pandas as pd\n",
    "base_path = \"C:\\\\400L Project\\\\analysis\\\\\"\n",
    "workbook = base_path + \"WDIEXCEL.xlsx\"\n",
    "WDIframe = pd.read_excel(workbook, \"Data\")\n",
    "\n",
    "print(WDIframe.head())"
   ]
  },
  {
   "cell_type": "code",
   "execution_count": null,
   "metadata": {},
   "outputs": [],
   "source": [
    "print(WDIframe[WDIframe[\"Country Name\"] == \"Nigeria\"])"
   ]
  },
  {
   "cell_type": "code",
   "execution_count": null,
   "metadata": {},
   "outputs": [],
   "source": [
    "WDIframe_trimmed = WDIframe[[\"Country Name\", \"Indicator Name\", \"Indicator Code\", \"2017\", \"2018\", \"2019\"]] # Trimmed WDI Dataset"
   ]
  },
  {
   "cell_type": "code",
   "execution_count": null,
   "metadata": {},
   "outputs": [],
   "source": [
    "import openpyxl\n",
    "WDIframe_trimmed.to_excel(base_path + 'WDI_EXCEL_TRIMMED.xlsx', sheet_name='Data')"
   ]
  },
  {
   "cell_type": "code",
   "execution_count": null,
   "metadata": {},
   "outputs": [],
   "source": [
    "print(WDIframe_trimmed.head())"
   ]
  },
  {
   "cell_type": "code",
   "execution_count": 81,
   "metadata": {},
   "outputs": [
    {
     "name": "stdout",
     "output_type": "stream",
     "text": [
      "   Unnamed: 0 Country Name                                     Indicator Name  \\\n",
      "0           0   Arab World  Access to clean fuels and technologies for coo...   \n",
      "1           1   Arab World            Access to electricity (% of population)   \n",
      "2           2   Arab World  Access to electricity, rural (% of rural popul...   \n",
      "3           3   Arab World  Access to electricity, urban (% of urban popul...   \n",
      "4           4   Arab World  Account ownership at a financial institution o...   \n",
      "\n",
      "      Indicator Code       2017       2018  2019  \n",
      "0     EG.CFT.ACCS.ZS        NaN        NaN   NaN  \n",
      "1     EG.ELC.ACCS.ZS  90.283638  89.286856   NaN  \n",
      "2  EG.ELC.ACCS.RU.ZS  81.102134  79.248100   NaN  \n",
      "3  EG.ELC.ACCS.UR.ZS  97.467915  97.063959   NaN  \n",
      "4     FX.OWN.TOTL.ZS  37.165211        NaN   NaN  \n"
     ]
    }
   ],
   "source": [
    "# Automate the insertion of the continents of each country\n",
    "import pycountry_convert as pc\n",
    "continents_for_each_row = [] # This holds the continent value for each row in the Trimmed dataset\n",
    "trimmed_WDI_file_path = base_path + 'WDI_EXCEL_TRIMMED.xlsx'\n",
    "trimmed_WDI_workframe = pd.read_excel(trimmed_WDI_file_path, \"Data\")\n",
    "\n",
    "continents_code_names = {\n",
    "'AF': 'Africa',\n",
    "'AN': 'Antartica',\n",
    "'AS': 'Asia',\n",
    "'EU': 'Europe',\n",
    "'NA': 'North America',\n",
    "'OC': 'Oceania',\n",
    "'SA': 'South America',\n",
    "}\n",
    "\n",
    "for index, row in trimmed_WDI_workframe.iterrows(): # Iterate through DataFrame rows\n",
    "    try:\n",
    "        country_code = pc.country_name_to_country_alpha2(row[1].strip(), cn_name_format=\"default\") # Convert country name to ISO code\n",
    "        continent_code = pc.country_alpha2_to_continent_code(country_code) # Convert country code to continent ISO code\n",
    "        continent_name = continents_code_names[continent_code]\n",
    "        \n",
    "        continents_for_each_row.append(continent_name)\n",
    "        \n",
    "    except KeyError:\n",
    "        continents_for_each_row.append('INVALID COUNTRY')\n",
    "trimmed_WDI_workframe.insert(1, \"Continent\", continents_for_each_row, True)"
   ]
  },
  {
   "cell_type": "code",
   "execution_count": 82,
   "metadata": {},
   "outputs": [],
   "source": [
    "trimmed_WDI_workframe.to_excel(base_path + 'WDI_EXCEL_TRIMMED_WITH_CONTINENT.xlsx', sheet_name='Data', index=False)"
   ]
  },
  {
   "cell_type": "code",
   "execution_count": 80,
   "metadata": {
    "scrolled": true
   },
   "outputs": [
    {
     "name": "stdout",
     "output_type": "stream",
     "text": [
      "   Unnamed: 0        Continent Country Name  \\\n",
      "0           0  INVALID COUNTRY   Arab World   \n",
      "1           1  INVALID COUNTRY   Arab World   \n",
      "2           2  INVALID COUNTRY   Arab World   \n",
      "3           3  INVALID COUNTRY   Arab World   \n",
      "4           4  INVALID COUNTRY   Arab World   \n",
      "\n",
      "                                      Indicator Name     Indicator Code  \\\n",
      "0  Access to clean fuels and technologies for coo...     EG.CFT.ACCS.ZS   \n",
      "1            Access to electricity (% of population)     EG.ELC.ACCS.ZS   \n",
      "2  Access to electricity, rural (% of rural popul...  EG.ELC.ACCS.RU.ZS   \n",
      "3  Access to electricity, urban (% of urban popul...  EG.ELC.ACCS.UR.ZS   \n",
      "4  Account ownership at a financial institution o...     FX.OWN.TOTL.ZS   \n",
      "\n",
      "        2017       2018  2019  \n",
      "0        NaN        NaN   NaN  \n",
      "1  90.283638  89.286856   NaN  \n",
      "2  81.102134  79.248100   NaN  \n",
      "3  97.467915  97.063959   NaN  \n",
      "4  37.165211        NaN   NaN  \n"
     ]
    }
   ],
   "source": [
    "print(trimmed_WDI_workframe.head())\n",
    "#print(trimmed_WDI_workframe[[\"Country Name\", \"Continent\"]])"
   ]
  },
  {
   "cell_type": "code",
   "execution_count": 93,
   "metadata": {},
   "outputs": [
    {
     "name": "stdout",
     "output_type": "stream",
     "text": [
      "<class 'pandas.core.frame.DataFrame'>\n"
     ]
    }
   ],
   "source": [
    "trimmed_WDI_with_continents = pd.read_excel(base_path + 'WDI_EXCEL_TRIMMED_WITH_CONTINENT.xlsx', \"Data\")\n",
    "continent_select = trimmed_WDI_with_continents[[\"Country Name\", \"Continent\"]] # Select continents and countries\n",
    "\n",
    "africa = continent_select[continent_select[\"Continent\"] == \"Africa\"]\n",
    "south_ame = continent_select[continent_select[\"Continent\"] == \"South America\"]\n",
    "asia = continent_select[continent_select[\"Continent\"] == \"Asia\"]\n",
    "\n",
    "africa_trim = africa.drop_duplicates(subset='Country Name', keep = 'last')\n",
    "south_ame_trim = south_ame.drop_duplicates(subset = 'Country Name', keep = 'last')\n",
    "asia_trim = asia.drop_duplicates(subset = 'Country Name', keep = 'last')\n",
    "\n",
    "\n",
    "continents_countries_only = pd.concat([africa_trim, south_ame_trim, asia_trim]) # Dataframe that has only countries in Africa, Asia, and South America\n",
    "continents_countries_only = continents_countries_only.reset_index(drop=True, inplace=False)\n"
   ]
  },
  {
   "cell_type": "code",
   "execution_count": 94,
   "metadata": {},
   "outputs": [
    {
     "name": "stdout",
     "output_type": "stream",
     "text": [
      "<class 'pandas.core.frame.DataFrame'>\n"
     ]
    }
   ],
   "source": [
    "continents_countries_only.to_excel(base_path + 'AFRICA_ASIA_SOUTHAME_CONTRIES.xlsx', sheet_name='Data')"
   ]
  },
  {
   "cell_type": "code",
   "execution_count": 139,
   "metadata": {},
   "outputs": [],
   "source": [
    "# Script to merge two Excel files. The first file has the HDI of all countries. \n",
    "# I want to insert into the appropriate column in the selected countries dataframe, \n",
    "# the correspondng HDI value of that country that is found in the HDI_DATASET dataframe\n",
    "\n",
    "hdi_dataset_frame = pd.read_excel(base_path + 'HDI_DATASET.xlsx', sheet_name='HDI_DATA')\n",
    "# Read Excel file that has only countries in Africa, Asia, and South America\n",
    "selected_continents_frame = pd.read_excel(base_path + 'AFRICA_ASIA_SOUTHAME_CONTRIES.xlsx', sheet_name='Data')\n",
    "\n",
    "hdi_dataset_dict = hdi_dataset_frame.set_index('Country').T.to_dict('list') # Convert HDI dataframe to dictionary\n",
    "selected_continents_frame['HDI'] = ''\n",
    "\n",
    "for index, row in selected_continents_frame.iterrows():\n",
    "    try:\n",
    "        #print(selected_continents_frame.loc[ index, :], ' --', hdi_dataset_dict[row.values[1].strip()])\n",
    "        selected_continents_frame.at[ index, 'HDI'] = hdi_dataset_dict[row.values[1].strip()][0]\n",
    "        #selected_continents_frame.loc[3, 'HDI'] =\n",
    "        #print(selected_continents_frame.loc[ index, :], ' -- ', hdi_dataset_dict[row[1].strip()])  \n",
    "        \n",
    "    except:\n",
    "        selected_continents_frame.at[ index, 'HDI'] = -1\n"
   ]
  },
  {
   "cell_type": "code",
   "execution_count": 142,
   "metadata": {},
   "outputs": [],
   "source": [
    "selected_continents_frame.to_excel(base_path + 'SELECTED_COUNTRIES_WITH_HDI.xlsx', sheet_name='Data', index=False)                                "
   ]
  },
  {
   "cell_type": "code",
   "execution_count": null,
   "metadata": {},
   "outputs": [],
   "source": []
  }
 ],
 "metadata": {
  "kernelspec": {
   "display_name": "Python 3",
   "language": "python",
   "name": "python3"
  },
  "language_info": {
   "codemirror_mode": {
    "name": "ipython",
    "version": 3
   },
   "file_extension": ".py",
   "mimetype": "text/x-python",
   "name": "python",
   "nbconvert_exporter": "python",
   "pygments_lexer": "ipython3",
   "version": "3.8.5"
  }
 },
 "nbformat": 4,
 "nbformat_minor": 4
}
