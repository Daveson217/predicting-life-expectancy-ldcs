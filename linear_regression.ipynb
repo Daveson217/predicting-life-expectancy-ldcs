{
 "cells": [
  {
   "cell_type": "code",
   "execution_count": 25,
   "metadata": {},
   "outputs": [
    {
     "name": "stdout",
     "output_type": "stream",
     "text": [
      "     Actual  Predicted\n",
      "30  61.3220  59.455168\n",
      "32  64.0150  62.794831\n",
      "33  67.0305  61.418864\n",
      "48  67.4435  66.355963\n",
      "51  69.2905  68.885432\n",
      "35  71.3730  73.075181\n",
      "11  60.9455  57.032215\n",
      "45  69.1335  66.059987\n",
      "2   53.8445  55.527280\n",
      "43  70.3235  71.684210\n",
      "26  57.2195  59.259584\n",
      "4   58.6725  58.927090\n",
      "10  66.0910  65.362056\n",
      "Score:  0.7955477883741083\n",
      "Mean Absolute Error: 1.9190252026887573\n",
      "Mean Squared Error: 5.762326852333846\n",
      "Root Mean Squared Error: 2.400484711955868\n"
     ]
    }
   ],
   "source": [
    "import pandas as pd\n",
    "import numpy as np\n",
    "#import matplotlib.pyplot as plt %matplotlib inline\n",
    "from sklearn.linear_model import LinearRegression\n",
    "from sklearn.model_selection import train_test_split\n",
    "from sklearn import metrics\n",
    "\n",
    "# Open WDI_EXCEL_TRIMMED_SELECTED_COUNTRIES.xlsx\n",
    "BASE_PATH = \"C:\\\\400L Project\\\\analysis\\\\\"\n",
    "dataframe = pd.read_excel(BASE_PATH + 'FINAL_DATASEST_CORRELATION.xlsx', \"TrimmedIndicators\")\n",
    "\n",
    "dataframe = dataframe.drop(['S/N', 'Country Name', 'Continent'], axis=1)\n",
    "dataframe = dataframe.fillna(dataframe.mean())\n",
    "\n",
    "x = dataframe.loc[: , 'GOVT_EXP_EDU_GOVEXP': 'PREV_HIV_TOTAL'] # Attributes\n",
    "y = dataframe['LXP'] # Label\n",
    "\n",
    "# Split dataset into training and testing datasets\n",
    "X_train, X_test, y_train, y_test = train_test_split(x, y, test_size=0.2, random_state=0)\n",
    "\n",
    "regressor = LinearRegression()\n",
    "regressor.fit(X_train, y_train)\n",
    "y_pred = regressor.predict(X_test) # Make predictions\n",
    "\n",
    "results_df = pd.DataFrame({'Actual': y_test, 'Predicted': y_pred})\n",
    "print(results_df)\n",
    "\n",
    "#coeff_df = pd.DataFrame(regressor.coeff_, X.columns, columns=['Coefficient'])\n",
    "#print(coeff_df)\n",
    "#print(dataframe.isna().sum())\n",
    "#print(x.shape)\n",
    "#print(y.shape)\n",
    "print('Score: ', regressor.score(X_test, y_test))\n",
    "print('Mean Absolute Error:', metrics.mean_absolute_error(y_test, y_pred))\n",
    "print('Mean Squared Error:', metrics.mean_squared_error(y_test, y_pred))\n",
    "print('Root Mean Squared Error:', np.sqrt(metrics.mean_squared_error(y_test, y_pred)))"
   ]
  },
  {
   "cell_type": "code",
   "execution_count": null,
   "metadata": {},
   "outputs": [],
   "source": []
  },
  {
   "cell_type": "code",
   "execution_count": null,
   "metadata": {},
   "outputs": [],
   "source": []
  },
  {
   "cell_type": "code",
   "execution_count": null,
   "metadata": {},
   "outputs": [],
   "source": []
  }
 ],
 "metadata": {
  "kernelspec": {
   "display_name": "Python 3",
   "language": "python",
   "name": "python3"
  },
  "language_info": {
   "codemirror_mode": {
    "name": "ipython",
    "version": 3
   },
   "file_extension": ".py",
   "mimetype": "text/x-python",
   "name": "python",
   "nbconvert_exporter": "python",
   "pygments_lexer": "ipython3",
   "version": "3.8.5"
  }
 },
 "nbformat": 4,
 "nbformat_minor": 4
}
