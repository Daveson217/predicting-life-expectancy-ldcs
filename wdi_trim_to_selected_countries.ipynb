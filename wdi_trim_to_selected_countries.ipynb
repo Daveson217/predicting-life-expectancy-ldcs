{
 "cells": [
  {
   "cell_type": "code",
   "execution_count": 5,
   "metadata": {},
   "outputs": [
    {
     "name": "stdout",
     "output_type": "stream",
     "text": [
      "   Unnamed: 0              Country Name Continent    HDI\n",
      "0           1                     Niger    Africa  0.390\n",
      "1           2  Central African Republic    Africa  0.394\n",
      "2           3                      Chad    Africa  0.397\n",
      "3           4               South Sudan    Africa  0.429\n",
      "4           5                      Mali    Africa  0.431\n"
     ]
    }
   ],
   "source": [
    "import pandas as pd\n",
    "base_path = \"C:\\\\400L Project\\\\analysis\\\\\"\n",
    "\n",
    "# I WANT TO REDUCE THE TRIMMED WDI DATASET TO JUST THE COUNTRIES THAT I SELECTED\n",
    "trimmed_WDI_with_continents = pd.read_excel(base_path + 'WDI_EXCEL_TRIMMED_WITH_CONTINENT.xlsx', \"Data\")\n",
    "selected_countries = pd.read_excel(base_path + 'SELECTED_COUNTRIES_WITH_HDI.xlsx', \"Less Developed countries\")\n",
    "\n",
    "print(selected_countries.head())"
   ]
  },
  {
   "cell_type": "code",
   "execution_count": 21,
   "metadata": {},
   "outputs": [],
   "source": [
    "list_of_selected_countries = selected_countries['Country Name'].values\n",
    "selected_countries_data = pd.DataFrame()\n",
    "filtered_countries_data_list = []\n",
    "\n",
    "for country in list_of_selected_countries:\n",
    "    filtered_countries_data_list.append(trimmed_WDI_with_continents[trimmed_WDI_with_continents[\"Country Name\"] == country]) # Select all the data on the current country in the WDI dataset\n",
    "\n",
    "selected_countries_data = pd.concat(filtered_countries_data_list) # Concatenate all the data for the different countries\n",
    "#print(selected_countries_data)\n",
    "\n",
    "# EXPORT WDI DATASET TRIMMED TO JUST SELECTED COUNTRIES\n",
    "selected_countries_data = selected_countries_data.reset_index(drop=True, inplace=False)\n",
    "selected_countries_data.to_excel(base_path + 'WDI_EXCEL_TRIMMED_SELECTED_COUNTRIES.xlsx', sheet_name='Data', index=True)  \n"
   ]
  },
  {
   "cell_type": "code",
   "execution_count": null,
   "metadata": {},
   "outputs": [],
   "source": []
  },
  {
   "cell_type": "code",
   "execution_count": null,
   "metadata": {},
   "outputs": [],
   "source": []
  }
 ],
 "metadata": {
  "kernelspec": {
   "display_name": "Python 3",
   "language": "python",
   "name": "python3"
  },
  "language_info": {
   "codemirror_mode": {
    "name": "ipython",
    "version": 3
   },
   "file_extension": ".py",
   "mimetype": "text/x-python",
   "name": "python",
   "nbconvert_exporter": "python",
   "pygments_lexer": "ipython3",
   "version": "3.8.5"
  }
 },
 "nbformat": 4,
 "nbformat_minor": 4
}
